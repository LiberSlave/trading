{
 "cells": [
  {
   "cell_type": "code",
   "execution_count": 1,
   "id": "28a3fd6e-47f4-4e0e-b53d-75acd516569f",
   "metadata": {},
   "outputs": [],
   "source": [
    "import xlwings"
   ]
  },
  {
   "cell_type": "code",
   "execution_count": 2,
   "id": "c44cf41a-046a-403d-8659-0cf46630b054",
   "metadata": {},
   "outputs": [
    {
     "name": "stdout",
     "output_type": "stream",
     "text": [
      "Name: xlwings\n",
      "Version: 0.24.9\n",
      "Summary: Make Excel fly: Interact with Excel from Python and vice versa.\n",
      "Home-page: https://www.xlwings.org\n",
      "Author: Zoomer Analytics LLC\n",
      "Author-email: felix.zumstein@zoomeranalytics.com\n",
      "License: BSD 3-clause\n",
      "Location: c:\\anaconda3\\envs\\py39_32\\lib\\site-packages\n",
      "Requires: pywin32\n",
      "Required-by: \n",
      "Note: you may need to restart the kernel to use updated packages.\n"
     ]
    }
   ],
   "source": [
    "pip show xlwings"
   ]
  },
  {
   "cell_type": "code",
   "execution_count": 5,
   "id": "e35f69cf-5688-4882-ba5f-53dd7278afe5",
   "metadata": {},
   "outputs": [
    {
     "ename": "SyntaxError",
     "evalue": "invalid syntax (547693297.py, line 1)",
     "output_type": "error",
     "traceback": [
      "\u001b[1;36m  Cell \u001b[1;32mIn[5], line 1\u001b[1;36m\u001b[0m\n\u001b[1;33m    xlwings addin install\u001b[0m\n\u001b[1;37m            ^\u001b[0m\n\u001b[1;31mSyntaxError\u001b[0m\u001b[1;31m:\u001b[0m invalid syntax\n"
     ]
    }
   ],
   "source": [
    "xlwings addin install"
   ]
  },
  {
   "cell_type": "code",
   "execution_count": 3,
   "id": "55022ecf-1228-4062-980e-1f8883a58f4b",
   "metadata": {},
   "outputs": [
    {
     "name": "stdout",
     "output_type": "stream",
     "text": [
      "hi\n"
     ]
    }
   ],
   "source": [
    "def main():\n",
    "    print('hi')\n",
    "    \n",
    "main()"
   ]
  },
  {
   "cell_type": "code",
   "execution_count": 1,
   "id": "afc2c6c8-b73e-4b3e-bd4e-f08516204efa",
   "metadata": {},
   "outputs": [],
   "source": [
    "import xlwings as xw\n",
    "wb = xw.Book()"
   ]
  },
  {
   "cell_type": "code",
   "execution_count": 2,
   "id": "9838695b-77f6-4bf4-be8d-cc876a2e826f",
   "metadata": {},
   "outputs": [],
   "source": [
    "a=[1,2,3]\n",
    "wb.sheets['sheet1'].range('A1').value=a"
   ]
  },
  {
   "cell_type": "code",
   "execution_count": 3,
   "id": "30cd93a4-dcbf-4ac3-82a4-9740136e924d",
   "metadata": {},
   "outputs": [],
   "source": [
    "wb.app.quit()"
   ]
  },
  {
   "cell_type": "markdown",
   "id": "8df678ad-0bb2-44a1-a63e-e066c570d13a",
   "metadata": {},
   "source": [
    "# 프로시저 종류\n",
    "- Sub : 프로그램 작성 단위로 작성한 프로그램을 실행하고 Sub가 종료되면서 되돌려 주는 값이 없다. 즉 리턴(return) 값이 없다.\n",
    "- Function : 프로그램 작성 단위로 Function이 종료되고 되돌려 주는 값(return)이 있다.\n",
    "- Property : 폼, 모듈, 클래스 모듈에 속성 값을 변경하거나 저장한 속성값을 가져온다."
   ]
  },
  {
   "cell_type": "markdown",
   "id": "00bbb022-6255-498b-9aef-c51a6da60c22",
   "metadata": {},
   "source": [
    "## Sub\n",
    "Sub 프로시저는 동작은 수행하지만 리턴값이 없는 Sub와 End Sub 사이에 작 성하는 Visual Basic 문이다. Sub 프로시저는 호출 프로시저에 의해 전달된 상수, 변수, 식 같은 인수를 가질수 있다."
   ]
  },
  {
   "cell_type": "code",
   "execution_count": null,
   "id": "83b5c6b3-3412-4f99-b05a-6159bd6995ed",
   "metadata": {},
   "outputs": [],
   "source": [
    "Sub name(arg)  \n",
    "    statements  \n",
    "    statements  \n",
    "    statements  \n",
    "End Sub"
   ]
  },
  {
   "cell_type": "markdown",
   "id": "b33b5c28-bbf2-4d49-abdd-cbfdb45605df",
   "metadata": {},
   "source": [
    "Sub HouseCalc(price As Single, wage As Single)\n",
    "- 파라미터들이 Sub 선언시에 Single로 선언됨. \n",
    "- As Single을 생략할시 자동으로 Variant로 선언되고 이후에 Dim price as Single 으로 재선언하면 중복선언 오류"
   ]
  },
  {
   "cell_type": "markdown",
   "id": "1809cdf7-ad17-4e4d-9ff6-0e9cd66c87c9",
   "metadata": {},
   "source": [
    "## Function\n",
    "return값이 있다"
   ]
  },
  {
   "cell_type": "code",
   "execution_count": null,
   "id": "b0f8b288-a797-4d3b-b47b-5c48cbab5e55",
   "metadata": {},
   "outputs": [],
   "source": [
    "Function name(arg)\n",
    "    statements\n",
    "    name = arg\n",
    "End Function"
   ]
  },
  {
   "cell_type": "markdown",
   "id": "e6f67ec4-cd17-4e63-bd4d-1414eb161db4",
   "metadata": {},
   "source": [
    "## Property\n",
    "Property 프로시저는 개체 속성을 정의한다. "
   ]
  },
  {
   "cell_type": "markdown",
   "id": "0024144b-fca6-453d-aca3-2bc5c7cf4096",
   "metadata": {},
   "source": [
    "## Private, Public, Friend, Static\n",
    "- Private : 같은 모듈안에서만 접근가능(default값)\n",
    "- Public : 모든곳에서 접근가능"
   ]
  },
  {
   "cell_type": "code",
   "execution_count": null,
   "id": "a89688ba-9a5c-45dd-a925-0fd2630bc97b",
   "metadata": {},
   "outputs": [],
   "source": []
  },
  {
   "cell_type": "markdown",
   "id": "c19f6071-3919-450d-87a1-f46cf738f66b",
   "metadata": {},
   "source": [
    "# 객체(내장객체)\n",
    "객체는 메소드(method), 속성 (property), 이벤트(event)를 갖는다.\n",
    "- workbook = 엑셀 파일\n",
    "- worksheet = 시트\n",
    "- range = 셀\n",
    "  - 속성 = 개체 특성(characteristics)으로 셀 높이, 셀 너비, 셀 배경색을 측정하거나 설정한다.\n",
    "  - 메소드 = 개체 행동(action)으로 종류는 셀 선택, 셀 복사, 셀 붙여넣기가 있다.\n",
    "  - 이벤트 = VBA 컴포넌트가 동작하는 것으로 버튼을 누르거나 리스트, 확인란, 옵션 단추, 콤보 상자에서 목록를 선택한다.\n",
    "\n",
    "- Debug\n",
    "    - 메소드 : print등등"
   ]
  },
  {
   "cell_type": "markdown",
   "id": "1a53a43e-11de-4284-a41b-172ab89699dd",
   "metadata": {},
   "source": [
    "## 선언하는법(사용하는법)"
   ]
  },
  {
   "cell_type": "code",
   "execution_count": null,
   "id": "7c6fab76-6277-4689-96e7-00bf2c0382c3",
   "metadata": {},
   "outputs": [],
   "source": [
    "Dim ws As Worksheet\n",
    "Set ws = ThisWorkbook.Worksheets(\"Sheet1\") '객체가 선언됨"
   ]
  },
  {
   "cell_type": "markdown",
   "id": "8fdccf1c-1076-4a7f-ab0b-9351db7c91c8",
   "metadata": {},
   "source": [
    "## Worksheets\n",
    "\n",
    "### 참조방법\n",
    "- Worksheets(1)\n",
    "- Worksheets(\"Sheet1\")\n",
    "\n",
    "### 속성\n",
    "- Name : 워크시트의 이름을 변경. 다음과 같이 사용-> Worksheets(\"Sheet1\").Name = \"Sheet1\"\n",
    "- Add : 워크시트 추가. 다음과 같이 사용 -> Worksheets.Add after:=ActiveSheet"
   ]
  },
  {
   "cell_type": "markdown",
   "id": "7e2b9b03-4745-4690-ae55-d3de227fead6",
   "metadata": {
    "tags": []
   },
   "source": [
    "## Range\n",
    "### 참조방법\n",
    "#### 셀범위\n",
    "- Range(\"B1\").Select ‘B1 셀 선택\n",
    "- Range(\"B2:F5\").Select ‘B2:F5 셀 선택\n",
    "- Range(\"B3:D4,B6:F8\").Select ‘B3:D4과 B6:F8 셀 선택\n",
    "#### 열범위\n",
    "- Range(\"A:A\").Select ‘A열 선택\n",
    "- Range(\"A:D\").Select ‘A열에서 D열까지 선택\n",
    "- Range(\"A:A,F:F\").Select ‘A열과 F열 선택\n",
    "#### 행범위\n",
    "- Range(\"1:1\").Select ‘1행 선택\n",
    "\n",
    "### 속성\n",
    "- .Value\n",
    "- .Address\n",
    "- .Font\n",
    "### method\n",
    "- .Clear\n",
    "- .Copy"
   ]
  },
  {
   "cell_type": "markdown",
   "id": "0a60e2c1-c13b-4c0b-92b7-4541af38c2b9",
   "metadata": {
    "tags": []
   },
   "source": [
    "## Font\n",
    "Name, Size, Bold, ColorIndex는 Font 객체의 속성임(개체 = 객체)\n",
    "- Range(\"B2\").Font.Name = \"굴림체\"\n",
    "- Range(\"B2\").Font.Size = 11\n",
    "-  Range(\"B2\").Font.Bold = True\n",
    "-  Range(\"B2\").Font.ColorIndex = 5\n"
   ]
  },
  {
   "cell_type": "markdown",
   "id": "9fcf8aef-1cb7-4d92-b9c1-e2b6165331d7",
   "metadata": {},
   "source": [
    "## Debug\n",
    "- Debug.print \"Sample Output\" "
   ]
  },
  {
   "cell_type": "markdown",
   "id": "806b6df9-4d8f-4c56-9c80-19330079fe7e",
   "metadata": {
    "tags": []
   },
   "source": [
    "# Class(외장객체)"
   ]
  },
  {
   "cell_type": "markdown",
   "id": "e9c128fc-c62c-4024-937c-7add29b17794",
   "metadata": {},
   "source": [
    "## 선언하는법(사용하는법)"
   ]
  },
  {
   "cell_type": "code",
   "execution_count": null,
   "id": "b0ac6e4a-3270-4888-be92-99e0ddfe1f01",
   "metadata": {},
   "outputs": [],
   "source": [
    "Dim 객체를 담을 변수 As 클래스이름\n",
    "Set 객체를 담을 변수 = New 클래스이름 '객체가 생성됨"
   ]
  },
  {
   "cell_type": "markdown",
   "id": "6cc5b74d-58ed-4f73-89f1-e570b4060bd6",
   "metadata": {},
   "source": []
  },
  {
   "cell_type": "markdown",
   "id": "43a3bc29-01df-4511-8f92-2d1e7c352644",
   "metadata": {},
   "source": [
    "# 함수\n",
    "1. 반환값이 없는 경우(그저 기능을 실행하기 위함)\n",
    "    - 함수이름 인수,인수,인수 ... \n",
    "2. 반환값이 있는 경우\n",
    "    - 변수 = 함수이름(인수,인수,인수 ...)"
   ]
  },
  {
   "cell_type": "markdown",
   "id": "92fcd4c9-f2d3-41f8-bb95-ce1ca3272bb7",
   "metadata": {},
   "source": [
    "### MsgBox\n",
    "MsgBox(prompt[, buttons] [, title] [, helpfile, context])\n",
    "- MsgBox \"안녕하세요!\",1,\"인사\"\n",
    "- MsgBox Range(\"A1\"), 1, \"인사235232\"\n",
    "\n",
    "### InputBox\n",
    "InputBox(prompt[, title] [, default] [, xpos] [, ypos] [, helpfile, context])\n",
    "- myVar = InputBox(Prompt:=\"숫자를 입력하세요.\")\n",
    "- myVar = InputBox(Prompt:=\"숫자를 입력하세요.\", _\n",
    "   Default:=\"100\", Title:=\"홀수, 짝수 판별\")\n"
   ]
  },
  {
   "cell_type": "markdown",
   "id": "9e7ffe98-569f-4138-9480-8dc9cb1e9b8a",
   "metadata": {},
   "source": [
    "# 문법"
   ]
  },
  {
   "cell_type": "markdown",
   "id": "cbe051c7-bd41-4030-a932-67333ae701a3",
   "metadata": {},
   "source": [
    "## 변수\n",
    "Dim varname[([subscripts])] [As type] [, varname[([subscripts])] [As type]] . . .\n",
    "\n",
    "- Dim varname as type\n",
    "- [subscripts]는 배열에서 참조번호이다.\n",
    "- as type을 생략하면 default는 Variant이다.\n",
    "- 혹은 Dim으로 지정해주지 않으면 변수들은 자동으로 variant가 된다."
   ]
  },
  {
   "cell_type": "markdown",
   "id": "d355216e-cbf6-4e3b-bf3e-c5cfe5d6ffb4",
   "metadata": {},
   "source": [
    "- Dim myVar, nextVar, thirdVar\n",
    "- Dim myAnswer As String\n",
    "- Dim x As Integer, y As Integer, z As Integer\n",
    "- Dim x, y, z As Integer"
   ]
  },
  {
   "cell_type": "markdown",
   "id": "798a7250-6e18-46db-a534-c5058d080a98",
   "metadata": {},
   "source": [
    "type은 여러가지 종류가있는데\n",
    "- Boolean\n",
    "- Integer\n",
    "- Double\n",
    "- String\n",
    "- Object\n",
    "    - Workbook\n",
    "    - Worksheet\n",
    "    - Range\n",
    "    - Font"
   ]
  },
  {
   "cell_type": "markdown",
   "id": "0805ba45-22c3-4184-b5e0-92b2639a7a8f",
   "metadata": {},
   "source": [
    "### 변수에 값 배정\n",
    "- varname = 20\n",
    "- Object type의 경우 : Set 변수이름 = 배정한 개체 참조"
   ]
  },
  {
   "cell_type": "markdown",
   "id": "89f7b5bc-e470-4f64-aee3-9bd725619197",
   "metadata": {},
   "source": [
    "## 상수\n",
    "Const constname = value\n",
    "- Const iMaxClient = 100"
   ]
  },
  {
   "cell_type": "code",
   "execution_count": null,
   "id": "654f5169-6af7-45af-a26d-2612fc0a995d",
   "metadata": {},
   "outputs": [],
   "source": []
  }
 ],
 "metadata": {
  "kernelspec": {
   "display_name": "Python (py39_32)",
   "language": "python",
   "name": "py39_32"
  },
  "language_info": {
   "codemirror_mode": {
    "name": "ipython",
    "version": 3
   },
   "file_extension": ".py",
   "mimetype": "text/x-python",
   "name": "python",
   "nbconvert_exporter": "python",
   "pygments_lexer": "ipython3",
   "version": "3.9.7"
  }
 },
 "nbformat": 4,
 "nbformat_minor": 5
}
