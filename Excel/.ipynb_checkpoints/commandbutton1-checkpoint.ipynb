{
 "cells": [
  {
   "cell_type": "code",
   "execution_count": 1,
   "id": "28a3fd6e-47f4-4e0e-b53d-75acd516569f",
   "metadata": {},
   "outputs": [],
   "source": [
    "import xlwings"
   ]
  },
  {
   "cell_type": "code",
   "execution_count": 2,
   "id": "c44cf41a-046a-403d-8659-0cf46630b054",
   "metadata": {},
   "outputs": [
    {
     "name": "stdout",
     "output_type": "stream",
     "text": [
      "Name: xlwings\n",
      "Version: 0.24.9\n",
      "Summary: Make Excel fly: Interact with Excel from Python and vice versa.\n",
      "Home-page: https://www.xlwings.org\n",
      "Author: Zoomer Analytics LLC\n",
      "Author-email: felix.zumstein@zoomeranalytics.com\n",
      "License: BSD 3-clause\n",
      "Location: c:\\anaconda3\\envs\\py39_32\\lib\\site-packages\n",
      "Requires: pywin32\n",
      "Required-by: \n",
      "Note: you may need to restart the kernel to use updated packages.\n"
     ]
    }
   ],
   "source": [
    "pip show xlwings"
   ]
  },
  {
   "cell_type": "code",
   "execution_count": 5,
   "id": "e35f69cf-5688-4882-ba5f-53dd7278afe5",
   "metadata": {},
   "outputs": [
    {
     "ename": "SyntaxError",
     "evalue": "invalid syntax (547693297.py, line 1)",
     "output_type": "error",
     "traceback": [
      "\u001b[1;36m  Cell \u001b[1;32mIn[5], line 1\u001b[1;36m\u001b[0m\n\u001b[1;33m    xlwings addin install\u001b[0m\n\u001b[1;37m            ^\u001b[0m\n\u001b[1;31mSyntaxError\u001b[0m\u001b[1;31m:\u001b[0m invalid syntax\n"
     ]
    }
   ],
   "source": [
    "xlwings addin install"
   ]
  },
  {
   "cell_type": "code",
   "execution_count": 3,
   "id": "55022ecf-1228-4062-980e-1f8883a58f4b",
   "metadata": {},
   "outputs": [
    {
     "name": "stdout",
     "output_type": "stream",
     "text": [
      "hi\n"
     ]
    }
   ],
   "source": [
    "def main():\n",
    "    print('hi')\n",
    "    \n",
    "main()"
   ]
  },
  {
   "cell_type": "code",
   "execution_count": 1,
   "id": "afc2c6c8-b73e-4b3e-bd4e-f08516204efa",
   "metadata": {},
   "outputs": [],
   "source": [
    "import xlwings as xw\n",
    "wb = xw.Book()"
   ]
  },
  {
   "cell_type": "code",
   "execution_count": 2,
   "id": "9838695b-77f6-4bf4-be8d-cc876a2e826f",
   "metadata": {},
   "outputs": [],
   "source": [
    "a=[1,2,3]\n",
    "wb.sheets['sheet1'].range('A1').value=a"
   ]
  },
  {
   "cell_type": "code",
   "execution_count": 3,
   "id": "30cd93a4-dcbf-4ac3-82a4-9740136e924d",
   "metadata": {},
   "outputs": [],
   "source": [
    "wb.app.quit()"
   ]
  },
  {
   "cell_type": "code",
   "execution_count": null,
   "id": "205b5b2f-a707-4f6b-9e30-831f610af801",
   "metadata": {},
   "outputs": [],
   "source": []
  }
 ],
 "metadata": {
  "kernelspec": {
   "display_name": "Python (py39_32)",
   "language": "python",
   "name": "py39_32"
  },
  "language_info": {
   "codemirror_mode": {
    "name": "ipython",
    "version": 3
   },
   "file_extension": ".py",
   "mimetype": "text/x-python",
   "name": "python",
   "nbconvert_exporter": "python",
   "pygments_lexer": "ipython3",
   "version": "3.9.7"
  }
 },
 "nbformat": 4,
 "nbformat_minor": 5
}
