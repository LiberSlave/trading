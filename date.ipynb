{
 "cells": [
  {
   "cell_type": "markdown",
   "metadata": {},
   "source": [
    "\n",
    "# Date tick labels\n",
    "\n",
    "Matplotlib date plotting is done by converting date instances into\n",
    "days since an epoch (by default 1970-01-01T00:00:00). The\n",
    ":mod:`matplotlib.dates` module provides the converter functions `.date2num`\n",
    "and `.num2date` that convert `datetime.datetime` and `numpy.datetime64`\n",
    "objects to and from Matplotlib's internal representation.  These data\n",
    "types are registered with the unit conversion mechanism described in\n",
    ":mod:`matplotlib.units`, so the conversion happens automatically for the user.\n",
    "The registration process also sets the default tick ``locator`` and\n",
    "``formatter`` for the axis to be `~.matplotlib.dates.AutoDateLocator` and\n",
    "`~.matplotlib.dates.AutoDateFormatter`.\n",
    "\n",
    "An alternative formatter is the `~.dates.ConciseDateFormatter`,\n",
    "used in the second ``Axes`` below (see\n",
    ":doc:`/gallery/ticks/date_concise_formatter`), which often removes the need to\n",
    "rotate the tick labels. The last ``Axes`` formats the dates manually, using\n",
    "`~.dates.DateFormatter` to format the dates using the format strings documented\n",
    "at `datetime.date.strftime`.\n"
   ]
  },
  {
   "cell_type": "code",
   "execution_count": 1,
   "metadata": {
    "collapsed": false,
    "jupyter": {
     "outputs_hidden": false
    }
   },
   "outputs": [
    {
     "name": "stderr",
     "output_type": "stream",
     "text": [
      "C:\\Users\\손민구\\AppData\\Local\\Temp\\ipykernel_21600\\3466714945.py:10: MatplotlibDeprecationWarning: In a future release, get_sample_data will automatically load numpy arrays.  Set np_load to True to get the array and suppress this warning.  Set asfileobj to False to get the path to the data file and suppress this warning.\n",
      "  data = cbook.get_sample_data('goog.npz')['price_data']\n"
     ]
    },
    {
     "ename": "TypeError",
     "evalue": "'_io.BufferedReader' object is not subscriptable",
     "output_type": "error",
     "traceback": [
      "\u001b[1;31m---------------------------------------------------------------------------\u001b[0m",
      "\u001b[1;31mTypeError\u001b[0m                                 Traceback (most recent call last)",
      "Cell \u001b[1;32mIn[1], line 10\u001b[0m\n\u001b[0;32m      4\u001b[0m \u001b[38;5;28;01mimport\u001b[39;00m \u001b[38;5;21;01mmatplotlib\u001b[39;00m\u001b[38;5;21;01m.\u001b[39;00m\u001b[38;5;21;01mdates\u001b[39;00m \u001b[38;5;28;01mas\u001b[39;00m \u001b[38;5;21;01mmdates\u001b[39;00m\n\u001b[0;32m      6\u001b[0m \u001b[38;5;66;03m# Load a numpy record array from yahoo csv data with fields date, open, high,\u001b[39;00m\n\u001b[0;32m      7\u001b[0m \u001b[38;5;66;03m# low, close, volume, adj_close from the mpl-data/sample_data directory. The\u001b[39;00m\n\u001b[0;32m      8\u001b[0m \u001b[38;5;66;03m# record array stores the date as an np.datetime64 with a day unit ('D') in\u001b[39;00m\n\u001b[0;32m      9\u001b[0m \u001b[38;5;66;03m# the date column.\u001b[39;00m\n\u001b[1;32m---> 10\u001b[0m data \u001b[38;5;241m=\u001b[39m \u001b[43mcbook\u001b[49m\u001b[38;5;241;43m.\u001b[39;49m\u001b[43mget_sample_data\u001b[49m\u001b[43m(\u001b[49m\u001b[38;5;124;43m'\u001b[39;49m\u001b[38;5;124;43mgoog.npz\u001b[39;49m\u001b[38;5;124;43m'\u001b[39;49m\u001b[43m)\u001b[49m\u001b[43m[\u001b[49m\u001b[38;5;124;43m'\u001b[39;49m\u001b[38;5;124;43mprice_data\u001b[39;49m\u001b[38;5;124;43m'\u001b[39;49m\u001b[43m]\u001b[49m\n\u001b[0;32m     12\u001b[0m fig, axs \u001b[38;5;241m=\u001b[39m plt\u001b[38;5;241m.\u001b[39msubplots(\u001b[38;5;241m3\u001b[39m, \u001b[38;5;241m1\u001b[39m, figsize\u001b[38;5;241m=\u001b[39m(\u001b[38;5;241m6.4\u001b[39m, \u001b[38;5;241m7\u001b[39m), layout\u001b[38;5;241m=\u001b[39m\u001b[38;5;124m'\u001b[39m\u001b[38;5;124mconstrained\u001b[39m\u001b[38;5;124m'\u001b[39m)\n\u001b[0;32m     13\u001b[0m \u001b[38;5;66;03m# common to all three:\u001b[39;00m\n",
      "\u001b[1;31mTypeError\u001b[0m: '_io.BufferedReader' object is not subscriptable"
     ]
    }
   ],
   "source": [
    "import matplotlib.pyplot as plt\n",
    "\n",
    "import matplotlib.cbook as cbook\n",
    "import matplotlib.dates as mdates\n",
    "\n",
    "# Load a numpy record array from yahoo csv data with fields date, open, high,\n",
    "# low, close, volume, adj_close from the mpl-data/sample_data directory. The\n",
    "# record array stores the date as an np.datetime64 with a day unit ('D') in\n",
    "# the date column.\n",
    "data = cbook.get_sample_data('goog.npz')['price_data']\n",
    "\n",
    "fig, axs = plt.subplots(3, 1, figsize=(6.4, 7), layout='constrained')\n",
    "# common to all three:\n",
    "for ax in axs:\n",
    "    ax.plot('date', 'adj_close', data=data)\n",
    "    # Major ticks every half year, minor ticks every month,\n",
    "    ax.xaxis.set_major_locator(mdates.MonthLocator(bymonth=(1, 7)))\n",
    "    ax.xaxis.set_minor_locator(mdates.MonthLocator())\n",
    "    ax.grid(True)\n",
    "    ax.set_ylabel(r'Price [\\$]')\n",
    "\n",
    "# different formats:\n",
    "ax = axs[0]\n",
    "ax.set_title('DefaultFormatter', loc='left', y=0.85, x=0.02, fontsize='medium')\n",
    "\n",
    "ax = axs[1]\n",
    "ax.set_title('ConciseFormatter', loc='left', y=0.85, x=0.02, fontsize='medium')\n",
    "ax.xaxis.set_major_formatter(\n",
    "    mdates.ConciseDateFormatter(ax.xaxis.get_major_locator()))\n",
    "\n",
    "ax = axs[2]\n",
    "ax.set_title('Manual DateFormatter', loc='left', y=0.85, x=0.02,\n",
    "             fontsize='medium')\n",
    "# Text in the x-axis will be displayed in 'YYYY-mm' format.\n",
    "ax.xaxis.set_major_formatter(mdates.DateFormatter('%Y-%b'))\n",
    "# Rotates and right-aligns the x labels so they don't crowd each other.\n",
    "for label in ax.get_xticklabels(which='major'):\n",
    "    label.set(rotation=30, horizontalalignment='right')\n",
    "\n",
    "plt.show()"
   ]
  },
  {
   "cell_type": "code",
   "execution_count": null,
   "metadata": {},
   "outputs": [],
   "source": []
  }
 ],
 "metadata": {
  "kernelspec": {
   "display_name": "Python 3 (ipykernel)",
   "language": "python",
   "name": "python3"
  },
  "language_info": {
   "codemirror_mode": {
    "name": "ipython",
    "version": 3
   },
   "file_extension": ".py",
   "mimetype": "text/x-python",
   "name": "python",
   "nbconvert_exporter": "python",
   "pygments_lexer": "ipython3",
   "version": "3.9.7"
  }
 },
 "nbformat": 4,
 "nbformat_minor": 4
}
