{
 "cells": [
  {
   "cell_type": "code",
   "execution_count": null,
   "id": "4c5eb1d0-c607-413e-a31b-10e6c35b4ef7",
   "metadata": {},
   "outputs": [],
   "source": [
    "import pandas as pd\n",
    "import mplfinance as mpf\n",
    "import matplotlib.pyplot as plt\n",
    "import time\n",
    "\n",
    "from TickerDict import tickers\n",
    "\n",
    "import DayChart\n",
    "\n",
    "from pykiwoom.kiwoom import *\n",
    "kiwoom = Kiwoom()\n",
    "\n",
    "kiwoom.CommConnect(block=True)\n",
    "print(\"블록킹 로그인 완료\")"
   ]
  },
  {
   "cell_type": "code",
   "execution_count": null,
   "id": "70e7619e-87b1-4154-9d18-e5e359c5ce99",
   "metadata": {},
   "outputs": [],
   "source": [
    "sss = DayChart.StockDataProcessor(kiwoom)\n",
    "\n",
    "df = sss.get_stock_data('현대힘스','20250123')\n",
    "\n",
    "df = sss.preprocess_data(df)"
   ]
  },
  {
   "cell_type": "code",
   "execution_count": 2,
   "id": "d654e09e-d433-420f-a4f8-84d39f31eee2",
   "metadata": {},
   "outputs": [],
   "source": [
    "import pymysql\n",
    "\n",
    "# 데이터베이스 연결 설정\n",
    "conn = pymysql.connect(\n",
    "    host='127.0.0.1',\n",
    "    user='root',\n",
    "    password='219423',\n",
    "    db='trading',\n",
    "    charset='utf8mb4')\n",
    "\n"
   ]
  },
  {
   "cell_type": "code",
   "execution_count": 3,
   "id": "3bc8d727-10dd-4104-9f3b-ee7904d00299",
   "metadata": {},
   "outputs": [],
   "source": [
    "cur = conn.cursor()"
   ]
  },
  {
   "cell_type": "code",
   "execution_count": 17,
   "id": "4a755ac5-3d40-431e-bf30-91ce2ac26109",
   "metadata": {},
   "outputs": [
    {
     "data": {
      "text/plain": [
       "0"
      ]
     },
     "execution_count": 17,
     "metadata": {},
     "output_type": "execute_result"
    }
   ],
   "source": [
    "create_table = \"\"\"\n",
    "CREATE TABLE IF NOT EXISTS stock_data (\n",
    "    datetime DATE PRIMARY KEY,\n",
    "    Open INT,\n",
    "    High INT,\n",
    "    Low INT,\n",
    "    Close INT,\n",
    "    Changes INT,\n",
    "    ChangeRate FLOAT,\n",
    "    Volume INT,\n",
    "    TradingValue FLOAT,\n",
    "    Program INT,\n",
    "    ForeignNetBuy INT,\n",
    "    InstitutionNetBuy INT,\n",
    "    IndividualNetBuy INT,\n",
    "    10DMA FLOAT,\n",
    "    20DMA FLOAT\n",
    ");\n",
    "\"\"\"\n",
    "cur.execute(create_table)\n"
   ]
  },
  {
   "cell_type": "code",
   "execution_count": null,
   "id": "3beec441-c2c4-4e5e-bc27-3e7131274e9b",
   "metadata": {},
   "outputs": [],
   "source": [
    "# SQL Insert query\n",
    "insert_query = \"\"\"\n",
    "INSERT INTO stock_data (datetime, Open, High, Low, Close, Changes, ChangeRate, Volume,\n",
    "                        TradingValue, Program, ForeignNetBuy, InstitutionNetBuy, IndividualNetBuy, `10DMA`, `20DMA`)\n",
    "VALUES (%s, %s, %s, %s, %s, %s, %s, %s, %s, %s, %s, %s, %s, %s, %s);\n",
    "\"\"\"\n",
    "\n",
    "# Iterate over DataFrame rows and insert them into the table\n",
    "for index, row in df.iterrows():\n",
    "    cursor.execute(insert_query, (\n",
    "        row[\"datetime\"],\n",
    "        row[\"Open\"],\n",
    "        row[\"High\"],\n",
    "        row[\"Low\"],\n",
    "        row[\"Close\"],\n",
    "        row[\"Changes\"],\n",
    "        row[\"ChangeRate\"],\n",
    "        row[\"Volume\"],\n",
    "        row[\"TradingValue\"],\n",
    "        row[\"Program\"],\n",
    "        row[\"ForeignNetBuy\"],\n",
    "        row[\"InstitutionNetBuy\"],\n",
    "        row[\"IndividualNetBuy\"],\n",
    "        row[\"10DMA\"],\n",
    "        row[\"20DMA\"]\n",
    "    ))"
   ]
  }
 ],
 "metadata": {
  "kernelspec": {
   "display_name": "Python (py39_32)",
   "language": "python",
   "name": "py39_32"
  },
  "language_info": {
   "codemirror_mode": {
    "name": "ipython",
    "version": 3
   },
   "file_extension": ".py",
   "mimetype": "text/x-python",
   "name": "python",
   "nbconvert_exporter": "python",
   "pygments_lexer": "ipython3",
   "version": "3.9.7"
  }
 },
 "nbformat": 4,
 "nbformat_minor": 5
}
