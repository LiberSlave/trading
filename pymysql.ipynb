{
 "cells": [
  {
   "cell_type": "code",
   "execution_count": 1,
   "id": "4c5eb1d0-c607-413e-a31b-10e6c35b4ef7",
   "metadata": {},
   "outputs": [
    {
     "name": "stdout",
     "output_type": "stream",
     "text": [
      "블록킹 로그인 완료\n"
     ]
    }
   ],
   "source": [
    "import pandas as pd\n",
    "import mplfinance as mpf\n",
    "import matplotlib.pyplot as plt\n",
    "import time\n",
    "\n",
    "from TickerDict import tickers\n",
    "\n",
    "import DayChart\n",
    "\n",
    "from pykiwoom.kiwoom import *\n",
    "kiwoom = Kiwoom()\n",
    "\n",
    "kiwoom.CommConnect(block=True)\n",
    "print(\"블록킹 로그인 완료\")"
   ]
  },
  {
   "cell_type": "code",
   "execution_count": 2,
   "id": "70e7619e-87b1-4154-9d18-e5e359c5ce99",
   "metadata": {},
   "outputs": [
    {
     "name": "stdout",
     "output_type": "stream",
     "text": [
      "{'trcode': 'opt10086', 'input': [{'일별주가요청': ['종목코드', '조회일자', '표시구분']}], 'output': [{'일별주가': ['날짜', '시가', '고가', '저가', '종가', '전일비', '등락률', '거래량', '금액(백만)', '신용비', '개인', '기관', '외인수량', '외국계', '프로그램', '외인비', '외인보유', '외인비중', '외인순매수', '기관순매수', '개인순매수', '신용잔고율']}]}\n",
      "{'trcode': 'opt10086', 'input': [{'일별주가요청': ['종목코드', '조회일자', '표시구분']}], 'output': [{'일별주가': ['날짜', '시가', '고가', '저가', '종가', '전일비', '등락률', '거래량', '금액(백만)', '신용비', '개인', '기관', '외인수량', '외국계', '프로그램', '외인비', '외인보유', '외인비중', '외인순매수', '기관순매수', '개인순매수', '신용잔고율']}]}\n"
     ]
    }
   ],
   "source": [
    "sss = DayChart.StockDataProcessor(kiwoom)\n",
    "\n",
    "df = sss.get_stock_data('현대힘스','20250123')\n",
    "\n",
    "df = sss.preprocess_data(df)"
   ]
  },
  {
   "cell_type": "code",
   "execution_count": 3,
   "id": "d654e09e-d433-420f-a4f8-84d39f31eee2",
   "metadata": {},
   "outputs": [],
   "source": [
    "import pymysql\n",
    "\n",
    "# 데이터베이스 연결 설정\n",
    "conn = pymysql.connect(\n",
    "    host='127.0.0.1',\n",
    "    user='root',\n",
    "    password='219423',\n",
    "    db='trading',\n",
    "    charset='utf8mb4')\n",
    "\n"
   ]
  },
  {
   "cell_type": "code",
   "execution_count": 4,
   "id": "3bc8d727-10dd-4104-9f3b-ee7904d00299",
   "metadata": {},
   "outputs": [],
   "source": [
    "cur = conn.cursor()"
   ]
  },
  {
   "cell_type": "code",
   "execution_count": 5,
   "id": "4a755ac5-3d40-431e-bf30-91ce2ac26109",
   "metadata": {},
   "outputs": [
    {
     "data": {
      "text/plain": [
       "0"
      ]
     },
     "execution_count": 5,
     "metadata": {},
     "output_type": "execute_result"
    }
   ],
   "source": [
    "create_table = \"\"\"\n",
    "CREATE TABLE IF NOT EXISTS stock_data (\n",
    "    datetime DATE,\n",
    "    Open INT,\n",
    "    High INT,\n",
    "    Low INT,\n",
    "    Close INT,\n",
    "    Changes INT,\n",
    "    ChangeRate FLOAT,\n",
    "    Volume INT,\n",
    "    TradingValue FLOAT,\n",
    "    Program INT,\n",
    "    ForeignNetBuy INT,\n",
    "    InstitutionNetBuy INT,\n",
    "    IndividualNetBuy INT,\n",
    "    10DMA FLOAT,\n",
    "    20DMA FLOAT\n",
    ");\n",
    "\"\"\"\n",
    "cur.execute(create_table)\n"
   ]
  },
  {
   "cell_type": "code",
   "execution_count": 6,
   "id": "3beec441-c2c4-4e5e-bc27-3e7131274e9b",
   "metadata": {
    "tags": []
   },
   "outputs": [],
   "source": [
    "# SQL Insert Query\n",
    "insert_query = \"\"\"\n",
    "INSERT INTO stock_data (\n",
    "    datetime, Open, High, Low, Close, Changes, ChangeRate, Volume, TradingValue, Program,\n",
    "    ForeignNetBuy, InstitutionNetBuy, IndividualNetBuy\n",
    ") VALUES (%s, %s, %s, %s, %s, %s, %s, %s, %s, %s, %s, %s, %s);\n",
    "\"\"\"\n",
    "\n",
    "# Iterate over DataFrame rows and insert them into the table\n",
    "for index, row in df.iterrows():\n",
    "    cur.execute(insert_query, (\n",
    "        index,  # datetime is the index in your DataFrame\n",
    "        row[\"Open\"],\n",
    "        row[\"High\"],\n",
    "        row[\"Low\"],\n",
    "        row[\"Close\"],\n",
    "        row[\"Changes\"],\n",
    "        row[\"ChangeRate\"],\n",
    "        row[\"Volume\"],\n",
    "        row[\"TradingValue\"],\n",
    "        row[\"Program\"],\n",
    "        row[\"ForeignNetBuy\"],\n",
    "        row[\"InstitutionNetBuy\"],\n",
    "        row[\"IndividualNetBuy\"]\n",
    "    ))\n",
    "    \n",
    "# Commit the transaction\n",
    "conn.commit()"
   ]
  },
  {
   "cell_type": "code",
   "execution_count": 28,
   "id": "45a4eeff-85e4-47e6-ae8e-8bcda8fe4969",
   "metadata": {},
   "outputs": [
    {
     "data": {
      "text/plain": [
       "<generator object DataFrame.iterrows at 0x05515C30>"
      ]
     },
     "execution_count": 28,
     "metadata": {},
     "output_type": "execute_result"
    }
   ],
   "source": [
    "df.iterrows()"
   ]
  },
  {
   "cell_type": "code",
   "execution_count": 12,
   "id": "e88e6361-b0d0-4017-a5bd-613911132357",
   "metadata": {},
   "outputs": [
    {
     "data": {
      "text/plain": [
       "15040.0"
      ]
     },
     "execution_count": 12,
     "metadata": {},
     "output_type": "execute_result"
    }
   ],
   "source": [
    "row[\"Open\"]"
   ]
  },
  {
   "cell_type": "code",
   "execution_count": 15,
   "id": "cbfc253d-60df-42f6-9023-d62f12e04fb6",
   "metadata": {},
   "outputs": [
    {
     "data": {
      "text/plain": [
       "15500.0"
      ]
     },
     "execution_count": 15,
     "metadata": {},
     "output_type": "execute_result"
    }
   ],
   "source": [
    "row[\"High\"]"
   ]
  },
  {
   "cell_type": "code",
   "execution_count": 16,
   "id": "23e1392d-9fe0-41ae-b52e-19dbbb572d84",
   "metadata": {},
   "outputs": [
    {
     "data": {
      "text/html": [
       "<div>\n",
       "<style scoped>\n",
       "    .dataframe tbody tr th:only-of-type {\n",
       "        vertical-align: middle;\n",
       "    }\n",
       "\n",
       "    .dataframe tbody tr th {\n",
       "        vertical-align: top;\n",
       "    }\n",
       "\n",
       "    .dataframe thead th {\n",
       "        text-align: right;\n",
       "    }\n",
       "</style>\n",
       "<table border=\"1\" class=\"dataframe\">\n",
       "  <thead>\n",
       "    <tr style=\"text-align: right;\">\n",
       "      <th></th>\n",
       "      <th>Open</th>\n",
       "      <th>High</th>\n",
       "      <th>Low</th>\n",
       "      <th>Close</th>\n",
       "      <th>Changes</th>\n",
       "      <th>ChangeRate</th>\n",
       "      <th>Volume</th>\n",
       "      <th>TradingValue</th>\n",
       "      <th>Program</th>\n",
       "      <th>ForeignNetBuy</th>\n",
       "      <th>InstitutionNetBuy</th>\n",
       "      <th>IndividualNetBuy</th>\n",
       "    </tr>\n",
       "    <tr>\n",
       "      <th>datetime</th>\n",
       "      <th></th>\n",
       "      <th></th>\n",
       "      <th></th>\n",
       "      <th></th>\n",
       "      <th></th>\n",
       "      <th></th>\n",
       "      <th></th>\n",
       "      <th></th>\n",
       "      <th></th>\n",
       "      <th></th>\n",
       "      <th></th>\n",
       "      <th></th>\n",
       "    </tr>\n",
       "  </thead>\n",
       "  <tbody>\n",
       "    <tr>\n",
       "      <th>2024-11-27</th>\n",
       "      <td>15040</td>\n",
       "      <td>15500</td>\n",
       "      <td>14330</td>\n",
       "      <td>14440</td>\n",
       "      <td>-750</td>\n",
       "      <td>-4.94</td>\n",
       "      <td>678688</td>\n",
       "      <td>101.88</td>\n",
       "      <td>-524</td>\n",
       "      <td>-34227</td>\n",
       "      <td>-31</td>\n",
       "      <td>548</td>\n",
       "    </tr>\n",
       "    <tr>\n",
       "      <th>2024-11-28</th>\n",
       "      <td>14310</td>\n",
       "      <td>15890</td>\n",
       "      <td>14140</td>\n",
       "      <td>14630</td>\n",
       "      <td>190</td>\n",
       "      <td>1.32</td>\n",
       "      <td>2332620</td>\n",
       "      <td>356.37</td>\n",
       "      <td>343</td>\n",
       "      <td>19242</td>\n",
       "      <td>1</td>\n",
       "      <td>-271</td>\n",
       "    </tr>\n",
       "    <tr>\n",
       "      <th>2024-11-29</th>\n",
       "      <td>14630</td>\n",
       "      <td>14840</td>\n",
       "      <td>14220</td>\n",
       "      <td>14310</td>\n",
       "      <td>-320</td>\n",
       "      <td>-2.19</td>\n",
       "      <td>343664</td>\n",
       "      <td>49.47</td>\n",
       "      <td>-376</td>\n",
       "      <td>-25924</td>\n",
       "      <td>-1</td>\n",
       "      <td>311</td>\n",
       "    </tr>\n",
       "    <tr>\n",
       "      <th>2024-12-02</th>\n",
       "      <td>14370</td>\n",
       "      <td>14640</td>\n",
       "      <td>13260</td>\n",
       "      <td>13330</td>\n",
       "      <td>-980</td>\n",
       "      <td>-6.85</td>\n",
       "      <td>499515</td>\n",
       "      <td>68.63</td>\n",
       "      <td>61</td>\n",
       "      <td>-1931</td>\n",
       "      <td>2</td>\n",
       "      <td>8</td>\n",
       "    </tr>\n",
       "    <tr>\n",
       "      <th>2024-12-03</th>\n",
       "      <td>13210</td>\n",
       "      <td>13810</td>\n",
       "      <td>13200</td>\n",
       "      <td>13710</td>\n",
       "      <td>380</td>\n",
       "      <td>2.85</td>\n",
       "      <td>309442</td>\n",
       "      <td>41.92</td>\n",
       "      <td>749</td>\n",
       "      <td>55426</td>\n",
       "      <td>0</td>\n",
       "      <td>-782</td>\n",
       "    </tr>\n",
       "  </tbody>\n",
       "</table>\n",
       "</div>"
      ],
      "text/plain": [
       "             Open   High    Low  Close  Changes  ChangeRate   Volume  \\\n",
       "datetime                                                               \n",
       "2024-11-27  15040  15500  14330  14440     -750       -4.94   678688   \n",
       "2024-11-28  14310  15890  14140  14630      190        1.32  2332620   \n",
       "2024-11-29  14630  14840  14220  14310     -320       -2.19   343664   \n",
       "2024-12-02  14370  14640  13260  13330     -980       -6.85   499515   \n",
       "2024-12-03  13210  13810  13200  13710      380        2.85   309442   \n",
       "\n",
       "            TradingValue  Program  ForeignNetBuy  InstitutionNetBuy  \\\n",
       "datetime                                                              \n",
       "2024-11-27        101.88     -524         -34227                -31   \n",
       "2024-11-28        356.37      343          19242                  1   \n",
       "2024-11-29         49.47     -376         -25924                 -1   \n",
       "2024-12-02         68.63       61          -1931                  2   \n",
       "2024-12-03         41.92      749          55426                  0   \n",
       "\n",
       "            IndividualNetBuy  \n",
       "datetime                      \n",
       "2024-11-27               548  \n",
       "2024-11-28              -271  \n",
       "2024-11-29               311  \n",
       "2024-12-02                 8  \n",
       "2024-12-03              -782  "
      ]
     },
     "execution_count": 16,
     "metadata": {},
     "output_type": "execute_result"
    }
   ],
   "source": [
    "df.head()"
   ]
  },
  {
   "cell_type": "code",
   "execution_count": null,
   "id": "bbf7371f-6953-4b34-abc3-d4463f7f5e44",
   "metadata": {},
   "outputs": [],
   "source": []
  },
  {
   "cell_type": "code",
   "execution_count": 17,
   "id": "1e4cbc94-7ef4-4bc1-9203-2b7399497b29",
   "metadata": {},
   "outputs": [],
   "source": [
    "import pandas as pd\n",
    "\n",
    "# Create a sample DataFrame\n",
    "data = {\n",
    "    \"Name\": [\"Alice\", \"Bob\", \"Charlie\"],\n",
    "    \"Age\": [25, 30, 35],\n",
    "    \"City\": [\"New York\", \"Los Angeles\", \"Chicago\"]\n",
    "}\n",
    "df = pd.DataFrame(data)\n"
   ]
  },
  {
   "cell_type": "code",
   "execution_count": 18,
   "id": "4cfc6951-f9a7-4f74-88ac-7a2f3496450c",
   "metadata": {},
   "outputs": [
    {
     "data": {
      "text/html": [
       "<div>\n",
       "<style scoped>\n",
       "    .dataframe tbody tr th:only-of-type {\n",
       "        vertical-align: middle;\n",
       "    }\n",
       "\n",
       "    .dataframe tbody tr th {\n",
       "        vertical-align: top;\n",
       "    }\n",
       "\n",
       "    .dataframe thead th {\n",
       "        text-align: right;\n",
       "    }\n",
       "</style>\n",
       "<table border=\"1\" class=\"dataframe\">\n",
       "  <thead>\n",
       "    <tr style=\"text-align: right;\">\n",
       "      <th></th>\n",
       "      <th>Name</th>\n",
       "      <th>Age</th>\n",
       "      <th>City</th>\n",
       "    </tr>\n",
       "  </thead>\n",
       "  <tbody>\n",
       "    <tr>\n",
       "      <th>0</th>\n",
       "      <td>Alice</td>\n",
       "      <td>25</td>\n",
       "      <td>New York</td>\n",
       "    </tr>\n",
       "    <tr>\n",
       "      <th>1</th>\n",
       "      <td>Bob</td>\n",
       "      <td>30</td>\n",
       "      <td>Los Angeles</td>\n",
       "    </tr>\n",
       "    <tr>\n",
       "      <th>2</th>\n",
       "      <td>Charlie</td>\n",
       "      <td>35</td>\n",
       "      <td>Chicago</td>\n",
       "    </tr>\n",
       "  </tbody>\n",
       "</table>\n",
       "</div>"
      ],
      "text/plain": [
       "      Name  Age         City\n",
       "0    Alice   25     New York\n",
       "1      Bob   30  Los Angeles\n",
       "2  Charlie   35      Chicago"
      ]
     },
     "execution_count": 18,
     "metadata": {},
     "output_type": "execute_result"
    }
   ],
   "source": [
    "df"
   ]
  },
  {
   "cell_type": "code",
   "execution_count": 19,
   "id": "d64a8c52-42ba-4afe-8536-9d00f82badc0",
   "metadata": {},
   "outputs": [
    {
     "name": "stdout",
     "output_type": "stream",
     "text": [
      "Index: 0, Name: Alice, Age: 25, City: New York\n",
      "Index: 1, Name: Bob, Age: 30, City: Los Angeles\n",
      "Index: 2, Name: Charlie, Age: 35, City: Chicago\n"
     ]
    }
   ],
   "source": [
    "# Iterate over rows using iterrows()\n",
    "for index, row in df.iterrows():\n",
    "    print(f\"Index: {index}, Name: {row['Name']}, Age: {row['Age']}, City: {row['City']}\")\n"
   ]
  },
  {
   "cell_type": "code",
   "execution_count": 31,
   "id": "0da24033-264c-4ea0-a7b8-c720f44f967b",
   "metadata": {},
   "outputs": [
    {
     "name": "stdout",
     "output_type": "stream",
     "text": [
      "1\n",
      "1\n",
      "1\n"
     ]
    }
   ],
   "source": [
    "data = [(0, \"apple\"), (1, \"banana\"), (2, \"cherry\")]\n",
    "# 튜플 언패킹을 활용한 for문\n",
    "for fruit in data:\n",
    "    print(1)"
   ]
  },
  {
   "cell_type": "code",
   "execution_count": null,
   "id": "9976f5ae-fbdb-44c0-920e-2556de9f5856",
   "metadata": {},
   "outputs": [],
   "source": []
  }
 ],
 "metadata": {
  "kernelspec": {
   "display_name": "Python (py39_32)",
   "language": "python",
   "name": "py39_32"
  },
  "language_info": {
   "codemirror_mode": {
    "name": "ipython",
    "version": 3
   },
   "file_extension": ".py",
   "mimetype": "text/x-python",
   "name": "python",
   "nbconvert_exporter": "python",
   "pygments_lexer": "ipython3",
   "version": "3.9.7"
  }
 },
 "nbformat": 4,
 "nbformat_minor": 5
}
